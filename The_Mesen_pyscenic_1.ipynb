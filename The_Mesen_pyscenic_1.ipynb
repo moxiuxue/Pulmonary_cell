{
 "cells": [
  {
   "cell_type": "code",
   "execution_count": 2,
   "metadata": {
    "collapsed": true
   },
   "outputs": [],
   "source": [
    "import os\n",
    "import wget\n",
    "import os\n",
    "import glob\n",
    "import pickle\n",
    "import pandas as pd\n",
    "import numpy as np\n",
    "from dask.diagnostics import ProgressBar\n",
    "from arboreto.utils import load_tf_names\n",
    "from arboreto.algo import grnboost2\n",
    "from ctxcore.rnkdb import FeatherRankingDatabase as RankingDatabase\n",
    "from pyscenic.utils import modules_from_adjacencies, load_motifs\n",
    "from pyscenic.prune import prune2df, df2regulons\n",
    "from pyscenic.aucell import aucell\n",
    "import seaborn as sns\n",
    "from pyscenic.export import export2loom\n",
    "import sys\n",
    "import loompy as lp\n",
    "import numpy as np\n",
    "\n",
    "os.chdir('./scenic')"
   ]
  },
  {
   "cell_type": "code",
   "execution_count": 39,
   "metadata": {
    "collapsed": true
   },
   "outputs": [],
   "source": [
    "MOTIF_ANNOTATIONS_FNAME = 'motifs-v9-nr.mgi-m0.001-o0.0.tbl'\n",
    "MM_TFS_FNAME = 'mm_mgi_tfs.txt'\n",
    "SC_EXP_FNAME = 'E18_Mesen_counts.csv' #which had been gotten by R write.csv(t(as.matrix(Mesen@assays$RNA@counts)),file = \"E18_Mesen_counts.csv\")\n"
   ]
  },
  {
   "cell_type": "code",
   "execution_count": 40,
   "metadata": {
    "collapsed": true
   },
   "outputs": [],
   "source": [
    "ex_matrix  = pd.read_csv(SC_EXP_FNAME, index_col= 0)\n",
    "tf_names = load_tf_names(MM_TFS_FNAME)"
   ]
  },
  {
   "cell_type": "code",
   "execution_count": 41,
   "metadata": {
    "collapsed": true
   },
   "outputs": [],
   "source": [
    "REGULONS_FNAME =  \"regulons.p\"\n",
    "MOTIFS_FNAME =  \"motifs_E18_Mesen.csv\""
   ]
  },
  {
   "cell_type": "code",
   "execution_count": 27,
   "metadata": {
    "collapsed": true
   },
   "outputs": [],
   "source": [
    "db_fnames  = ['mm9-tss-centered-10kb-10species.mc9nr.feather']"
   ]
  },
  {
   "cell_type": "code",
   "execution_count": 28,
   "metadata": {
    "collapsed": true
   },
   "outputs": [],
   "source": [
    "def name(fname):\n",
    "     return os.path.splitext(os.path.basename(fname))[0] "
   ]
  },
  {
   "cell_type": "code",
   "execution_count": 29,
   "metadata": {
    "collapsed": true
   },
   "outputs": [],
   "source": [
    "dbs = [RankingDatabase(fname=fname, name=name(fname)) for fname in db_fnames]"
   ]
  },
  {
   "cell_type": "code",
   "execution_count": 42,
   "metadata": {
    "scrolled": true
   },
   "outputs": [
    {
     "name": "stdout",
     "output_type": "stream",
     "text": [
      "preparing dask client\n",
      "parsing input\n",
      "creating dask graph\n",
      "4 partitions\n",
      "computing dask graph\n",
      "shutting down client and local cluster\n",
      "finished\n"
     ]
    }
   ],
   "source": [
    "adjacencies = grnboost2(expression_data=ex_matrix, tf_names=tf_names, verbose=True)\n"
   ]
  },
  {
   "cell_type": "code",
   "execution_count": 43,
   "metadata": {
    "scrolled": true
   },
   "outputs": [
    {
     "name": "stderr",
     "output_type": "stream",
     "text": [
      "\n",
      "2022-08-03 10:41:36,079 - pyscenic.utils - INFO - Calculating Pearson correlations.\n",
      "\n",
      "2022-08-03 10:41:37,834 - pyscenic.utils - WARNING - Note on correlation calculation: the default behaviour for calculating the correlations has changed after pySCENIC verion 0.9.16. Previously, the default was to calculate the correlation between a TF and target gene using only cells with non-zero expression values (mask_dropouts=True). The current default is now to use all cells to match the behavior of the R verision of SCENIC. The original settings can be retained by setting 'rho_mask_dropouts=True' in the modules_from_adjacencies function, or '--mask_dropouts' from the CLI.\n",
      "\tDropout masking is currently set to [False].\n",
      "\n",
      "2022-08-03 10:42:56,940 - pyscenic.utils - INFO - Creating modules.\n"
     ]
    }
   ],
   "source": [
    "modules = list(modules_from_adjacencies(adjacencies, ex_matrix))"
   ]
  },
  {
   "cell_type": "code",
   "execution_count": 44,
   "metadata": {},
   "outputs": [
    {
     "name": "stdout",
     "output_type": "stream",
     "text": [
      "[########################################] | 100% Completed | 12min 16.1s\n"
     ]
    }
   ],
   "source": [
    "with ProgressBar():\n",
    "    df = prune2df(dbs, modules, MOTIF_ANNOTATIONS_FNAME)"
   ]
  },
  {
   "cell_type": "code",
   "execution_count": 45,
   "metadata": {},
   "outputs": [
    {
     "name": "stdout",
     "output_type": "stream",
     "text": [
      "Create regulons from a dataframe of enriched features.\n",
      "Additional columns saved: []\n"
     ]
    }
   ],
   "source": [
    "regulons = df2regulons(df)"
   ]
  },
  {
   "cell_type": "code",
   "execution_count": 46,
   "metadata": {
    "collapsed": true
   },
   "outputs": [],
   "source": [
    "df.to_csv(MOTIFS_FNAME)"
   ]
  },
  {
   "cell_type": "code",
   "execution_count": 47,
   "metadata": {
    "collapsed": true
   },
   "outputs": [],
   "source": [
    "with open(REGULONS_FNAME, \"wb\") as f:\n",
    "    pickle.dump(regulons, f)"
   ]
  },
  {
   "cell_type": "code",
   "execution_count": 48,
   "metadata": {
    "collapsed": true
   },
   "outputs": [],
   "source": [
    "auc_mtx = aucell(ex_matrix, regulons, num_workers=4)"
   ]
  },
  {
   "cell_type": "code",
   "execution_count": null,
   "metadata": {
    "collapsed": true
   },
   "outputs": [],
   "source": [
    "auc_mtx"
   ]
  },
  {
   "cell_type": "code",
   "execution_count": 19,
   "metadata": {
    "collapsed": true
   },
   "outputs": [],
   "source": [
    "from pyscenic.export import export2loom\n"
   ]
  },
  {
   "cell_type": "code",
   "execution_count": 50,
   "metadata": {
    "collapsed": true
   },
   "outputs": [],
   "source": [
    "export2loom(ex_mtx = ex_matrix, auc_mtx = auc_mtx, regulons = [r.rename(r.name.replace('(+)',' ('+str(len(r))+'g)')) for r in regulons], out_fname = \"E18_Mesen.loom\")"
   ]
  },
  {
   "cell_type": "code",
   "execution_count": 49,
   "metadata": {
    "collapsed": true
   },
   "outputs": [],
   "source": [
    "auc_mtx.to_csv('auc_E18_Mesen.csv')"
   ]
  },
  {
   "cell_type": "code",
   "execution_count": null,
   "metadata": {
    "collapsed": true
   },
   "outputs": [],
   "source": []
  }
 ],
 "metadata": {
  "kernelspec": {
   "display_name": "Python 3",
   "language": "python",
   "name": "python3"
  },
  "language_info": {
   "codemirror_mode": {
    "name": "ipython",
    "version": 3
   },
   "file_extension": ".py",
   "mimetype": "text/x-python",
   "name": "python",
   "nbconvert_exporter": "python",
   "pygments_lexer": "ipython3",
   "version": "3.6.2"
  }
 },
 "nbformat": 4,
 "nbformat_minor": 5
}
